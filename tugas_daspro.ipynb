{
  "nbformat": 4,
  "nbformat_minor": 0,
  "metadata": {
    "colab": {
      "provenance": [],
      "authorship_tag": "ABX9TyPhZkTos/jujT9dx9KE193f",
      "include_colab_link": true
    },
    "kernelspec": {
      "name": "python3",
      "display_name": "Python 3"
    },
    "language_info": {
      "name": "python"
    }
  },
  "cells": [
    {
      "cell_type": "markdown",
      "metadata": {
        "id": "view-in-github",
        "colab_type": "text"
      },
      "source": [
        "<a href=\"https://colab.research.google.com/github/YasyaAbdillah03/latihan-1/blob/main/tugas_daspro.ipynb\" target=\"_parent\"><img src=\"https://colab.research.google.com/assets/colab-badge.svg\" alt=\"Open In Colab\"/></a>"
      ]
    },
    {
      "cell_type": "code",
      "execution_count": 1,
      "metadata": {
        "colab": {
          "base_uri": "https://localhost:8080/"
        },
        "id": "lio5P0NbB-za",
        "outputId": "d42f414e-a316-4279-e158-e563f8cef065"
      },
      "outputs": [
        {
          "output_type": "stream",
          "name": "stdout",
          "text": [
            "['daspro', 'distrik', 'aljabar']\n"
          ]
        }
      ],
      "source": [
        "matkul = [\"daspro\", \"distrik\", \"aljabar\"]\n",
        "matkulsaya = matkul.copy()\n",
        "print(matkul)"
      ]
    },
    {
      "cell_type": "code",
      "source": [
        "tugas = ['daspro', 'aljabar', 'pkwn']\n",
        "x = tugas.count(\"pkwn\")\n",
        "print(x)"
      ],
      "metadata": {
        "colab": {
          "base_uri": "https://localhost:8080/"
        },
        "id": "zXBRWzRVCjNZ",
        "outputId": "d50ba1d0-a6e7-4d66-c8e5-06d64eacb38a"
      },
      "execution_count": 2,
      "outputs": [
        {
          "output_type": "stream",
          "name": "stdout",
          "text": [
            "1\n"
          ]
        }
      ]
    },
    {
      "cell_type": "code",
      "source": [
        "matkul = ['daspro', 'distrik', 'aljabar']\n",
        "dosen = ['jaenal alamsyah', 'imam sanjaya', 'ivana lucia kharisma']\n",
        "matkul.extend(dosen)\n",
        "print(matkul)"
      ],
      "metadata": {
        "colab": {
          "base_uri": "https://localhost:8080/"
        },
        "id": "2rVpA-ZzCkYs",
        "outputId": "b68446ae-3892-42ae-d122-b8030805929b"
      },
      "execution_count": 3,
      "outputs": [
        {
          "output_type": "stream",
          "name": "stdout",
          "text": [
            "['daspro', 'distrik', 'aljabar', 'jaenal alamsyah', 'imam sanjaya', 'ivana lucia kharisma']\n"
          ]
        }
      ]
    }
  ]
}