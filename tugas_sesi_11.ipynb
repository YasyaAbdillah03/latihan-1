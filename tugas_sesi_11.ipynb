{
  "nbformat": 4,
  "nbformat_minor": 0,
  "metadata": {
    "colab": {
      "provenance": [],
      "authorship_tag": "ABX9TyMVak7gIcocZyElGTXKInDY",
      "include_colab_link": true
    },
    "kernelspec": {
      "name": "python3",
      "display_name": "Python 3"
    },
    "language_info": {
      "name": "python"
    }
  },
  "cells": [
    {
      "cell_type": "markdown",
      "metadata": {
        "id": "view-in-github",
        "colab_type": "text"
      },
      "source": [
        "<a href=\"https://colab.research.google.com/github/YasyaAbdillah03/latihan-1/blob/main/tugas_sesi_11.ipynb\" target=\"_parent\"><img src=\"https://colab.research.google.com/assets/colab-badge.svg\" alt=\"Open In Colab\"/></a>"
      ]
    },
    {
      "cell_type": "code",
      "execution_count": 17,
      "metadata": {
        "id": "V_2Y11yl4rt3"
      },
      "outputs": [],
      "source": [
        "def BMI() :\n",
        "    tinggi= float(input(\"masukan tinggi badan anda : \"))\n",
        "    berat = float(input(\"masukan berat badan anda : \"))\n",
        "\n",
        "    bmi = berat/(tinggi/100)**2\n",
        "    if bmi >= 16.0 and bmi <= 18.5 :\n",
        "      return \"kurus\", bmi\n",
        "    elif bmi >= 18.5 and bmi <= 25.0 :\n",
        "      return \"normal\", bmi\n",
        "    elif bmi >= 25.0 and bmi <= 40.0 :\n",
        "      return \"gemuk\", bmi\n",
        "    elif bmi >= 40.0 and bmi <= 60.0 :\n",
        "      return \"obesitas\", bmi\n",
        "\n",
        "    kuotes, bmi = BMI()\n",
        "    print(\"bmi kamu andalah : {} dan kamu sekarang : {}\".format(bmi, kuotes))"
      ]
    },
    {
      "cell_type": "code",
      "source": [
        "BMI()"
      ],
      "metadata": {
        "colab": {
          "base_uri": "https://localhost:8080/"
        },
        "id": "wxCim4UeXLSV",
        "outputId": "86e2ce58-cfda-4b04-a05e-ad8cfb40a75d"
      },
      "execution_count": 19,
      "outputs": [
        {
          "name": "stdout",
          "output_type": "stream",
          "text": [
            "masukan tinggi badan anda : 172\n",
            "masukan berat badan anda : 52\n"
          ]
        },
        {
          "output_type": "execute_result",
          "data": {
            "text/plain": [
              "('kurus', 17.577068685776098)"
            ]
          },
          "metadata": {},
          "execution_count": 19
        }
      ]
    }
  ]
}