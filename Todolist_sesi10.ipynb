{
  "nbformat": 4,
  "nbformat_minor": 0,
  "metadata": {
    "colab": {
      "provenance": [],
      "authorship_tag": "ABX9TyNAu4fM17T1u5kM3Kgm0nA+",
      "include_colab_link": true
    },
    "kernelspec": {
      "name": "python3",
      "display_name": "Python 3"
    },
    "language_info": {
      "name": "python"
    }
  },
  "cells": [
    {
      "cell_type": "markdown",
      "metadata": {
        "id": "view-in-github",
        "colab_type": "text"
      },
      "source": [
        "<a href=\"https://colab.research.google.com/github/YasyaAbdillah03/latihan-1/blob/main/Todolist_sesi10.ipynb\" target=\"_parent\"><img src=\"https://colab.research.google.com/assets/colab-badge.svg\" alt=\"Open In Colab\"/></a>"
      ]
    },
    {
      "cell_type": "markdown",
      "source": [],
      "metadata": {
        "id": "JKrNZjixebvM"
      }
    },
    {
      "cell_type": "code",
      "execution_count": null,
      "metadata": {
        "id": "CQ73jEGyeWL8"
      },
      "outputs": [],
      "source": [
        "print(\"\"\"\n",
        "```menu list sederhana```\n",
        "muhammad yasya a\\n\"\"\")\n",
        "tasks = []\n",
        "def add_tugas(tugas):\n",
        "    tasks.append(tugas)\n",
        "\n",
        "    def view_tugas():\n",
        "        for i, tugas in enumerate(tasks):\n",
        "                print(f\"{i+1}. {tugas}\")\n",
        "\n",
        "                def remove_tugas(index):\n",
        "                    del tasks[index]\n",
        "                        \n",
        "                        def mark_tugas_complete(index):\n",
        "                            tasks[index] = 'X ' + tasks[index]\n",
        "\n",
        "                            def main():\n",
        "                                print(\"Selamat Datang Di Dalam List Kamu!\")\n",
        "                                    while True:\n",
        "                                            print(\"Apa Yang Ingin Anda Lakukan?\")\n",
        "                                                    print(\"1. Tambahkan Tugas\")\n",
        "                                                            print(\"2. Lihat Semua Tugas\")\n",
        "                                                                    print(\"3. Hapus Tugas\")\n",
        "                                                                            print(\"4. Tandai Tugas Yang Sudah Selesai\")\n",
        "                                                                                    print(\"5. Quit\")\n",
        "                                                                                            pilihan = int(input(\"Pilihan Kamu: \"))\n",
        "                                                                                                    if pilihan == 1:\n",
        "                                                                                                                tugas = input(\"Masukkan Tugas: \")\n",
        "                                                                                                                            add_tugas(tugas)\n",
        "                                                                                                                                    elif pilihan == 2:\n",
        "                                                                                                                                                view_tugas()\n",
        "                                                                                                                                                        elif pilihan == 3:\n",
        "                                                                                                                                                                    index = int(input(\"Masukkan nomor Tugas: \"))\n",
        "                                                                                                                                                                                remove_tugas(index)\n",
        "                                                                                                                                                                                        elif pilihan == 4:\n",
        "                                                                                                                                                                                                    index = int(input(\"Masukkan nomor Tugas: \"))\n",
        "                                                                                                                                                                                                                mark_tugas_complete(index)\n",
        "                                                                                                                                                                                                                        elif pilihan == 5:      \n",
        "                                                                                                                                                                                                                                    break\n",
        "                                                                                                                                                                                                                                            else:\n",
        "                                                                                                                                                                                                                                                        \n",
        "                                                                                                                                                                                                                                                                    print(\"ERROR,input yang anda masukan salah.\")\n",
        "\n",
        "                                                                                                                                                                                                                                                                            \n",
        "                                                                                                                                                                                                                                                                                    print()\n",
        "                                                                                                                                                                                                                                                                                    main()"
      ]
    }
  ]
}
