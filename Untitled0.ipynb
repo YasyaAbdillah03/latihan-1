{
  "nbformat": 4,
  "nbformat_minor": 0,
  "metadata": {
    "colab": {
      "provenance": [],
      "authorship_tag": "ABX9TyPQO+OVbFFjlz+sLPtAinKU",
      "include_colab_link": true
    },
    "kernelspec": {
      "name": "python3",
      "display_name": "Python 3"
    },
    "language_info": {
      "name": "python"
    }
  },
  "cells": [
    {
      "cell_type": "markdown",
      "metadata": {
        "id": "view-in-github",
        "colab_type": "text"
      },
      "source": [
        "<a href=\"https://colab.research.google.com/github/YasyaAbdillah03/latihan-1/blob/main/Untitled0.ipynb\" target=\"_parent\"><img src=\"https://colab.research.google.com/assets/colab-badge.svg\" alt=\"Open In Colab\"/></a>"
      ]
    },
    {
      "cell_type": "code",
      "execution_count": 7,
      "metadata": {
        "colab": {
          "base_uri": "https://localhost:8080/"
        },
        "id": "nfkll5nVAMGm",
        "outputId": "62f59555-3af2-4ff9-b45f-8d5e59d176ba"
      },
      "outputs": [
        {
          "output_type": "stream",
          "name": "stdout",
          "text": [
            "TUGAS DASAR PEMEROGRAMAN\n",
            "biodata sederhana menggunakan variabel\n",
            "nama: muhammad yasya abdillah\n",
            "kelas: TI22E\n",
            "jurusan: teknik informatika\n",
            "quotes: Jika kamu mencoba untuk gagal, dan berhasil, apa yang sudah kamu lakukan?\n"
          ]
        }
      ],
      "source": [
        "from types import prepare_class\n",
        "nama = 'muhammad yasya abdillah'\n",
        "kelas = 'TI22E'\n",
        "jurusan = 'teknik informatika'\n",
        "quotes = 'Jika kamu mencoba untuk gagal, dan berhasil, apa yang sudah kamu lakukan?'\n",
        "\n",
        "print(\"TUGAS DASAR PEMEROGRAMAN\")\n",
        "print(\"biodata sederhana menggunakan variabel\")\n",
        "print('nama:',nama)\n",
        "print('kelas:',kelas)\n",
        "print('jurusan:',jurusan)\n",
        "print('quotes:',quotes)"
      ]
    }
  ]
}