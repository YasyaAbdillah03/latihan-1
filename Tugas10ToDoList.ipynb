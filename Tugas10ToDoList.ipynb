{
  "nbformat": 4,
  "nbformat_minor": 0,
  "metadata": {
    "colab": {
      "provenance": [],
      "authorship_tag": "ABX9TyNBJwE3oeW7sTFi9JGHv+3/",
      "include_colab_link": true
    },
    "kernelspec": {
      "name": "python3",
      "display_name": "Python 3"
    },
    "language_info": {
      "name": "python"
    }
  },
  "cells": [
    {
      "cell_type": "markdown",
      "metadata": {
        "id": "view-in-github",
        "colab_type": "text"
      },
      "source": [
        "<a href=\"https://colab.research.google.com/github/YasyaAbdillah03/latihan-1/blob/main/Tugas10ToDoList.ipynb\" target=\"_parent\"><img src=\"https://colab.research.google.com/assets/colab-badge.svg\" alt=\"Open In Colab\"/></a>"
      ]
    },
    {
      "cell_type": "code",
      "execution_count": null,
      "metadata": {
        "colab": {
          "base_uri": "https://localhost:8080/"
        },
        "id": "8VG4n7GVqWnC",
        "outputId": "74580f61-62c3-4288-ffbb-84d9d3b0ea77"
      },
      "outputs": [
        {
          "metadata": {
            "tags": null
          },
          "name": "stdout",
          "output_type": "stream",
          "text": [
            "=============== TO DO LIST ===============\n",
            "======= MUHAMMAD YASYA ABDILLAH =======\n",
            "\n",
            "1. MASUKAN KEGIATAN \n",
            "2. HAPUS KEGIATAN \n",
            "3. KELUAR \n",
            "\n"
          ]
        }
      ],
      "source": [
        "kegiatan = []\n",
        "i = 0\n",
        "\n",
        "while True :\n",
        "    print('=============== TO DO LIST ===============')\n",
        "    print(\"======= MUHAMMAD YASYA ABDILLAH =======\\n\")\n",
        "    print(\"1. MASUKAN KEGIATAN \\n2. HAPUS KEGIATAN \\n3. KELUAR \\n\")\n",
        "    opt = int(input('Masukan pilihan :'))\n",
        "    if opt == 1 :\n",
        "         while True :\n",
        "            kegiatan_baru = input(\"Masukan kegiatan : \")\n",
        "            kegiatan.append(kegiatan_baru)\n",
        "            i += 1\n",
        "            tanya = input(\"Tambah kegiatan lagi? (y/n): \")\n",
        "            if tanya == \"n\":\n",
        "                print (\"\\nKamu memiliki {} kegiatan :\".format(len(kegiatan)))\n",
        "                for kg in kegiatan :\n",
        "                    print (\"- {}\".format(kg))\n",
        "                break\n",
        "    elif opt == 2 :\n",
        "        while True :\n",
        "            kegiatan.remove(input('\\nMasukan kegiatan yang akan dihapus : '))\n",
        "            i -= 1\n",
        "            tanya = input(\"Ada yang ingin dihapus lagi? (y/n): \")\n",
        "            if tanya == \"n\":\n",
        "                print (\"\\nKamu memiliki {} kegiatan :\".format(len(kegiatan)))\n",
        "                for kg in kegiatan :\n",
        "                     print (\"- {}\".format(kg))\n",
        "                break\n",
        "    elif opt == 3 :\n",
        "        tanya = input('\\nApakah anda ingin keluar? (y/n) :')\n",
        "        if tanya== 'y' :\n",
        "            print('Terima kasih telah menggunakan program ini'.upper())\n",
        "            break\n",
        "        else : continue\n",
        "    else :\n",
        "        print(\"ERROR, PERINTAH SALAH\")"
      ]
    }
  ]
}