{
  "nbformat": 4,
  "nbformat_minor": 0,
  "metadata": {
    "colab": {
      "provenance": [],
      "toc_visible": true,
      "authorship_tag": "ABX9TyNzWgaXgu8izIvszoZQXONF",
      "include_colab_link": true
    },
    "kernelspec": {
      "name": "python3",
      "display_name": "Python 3"
    },
    "language_info": {
      "name": "python"
    }
  },
  "cells": [
    {
      "cell_type": "markdown",
      "metadata": {
        "id": "view-in-github",
        "colab_type": "text"
      },
      "source": [
        "<a href=\"https://colab.research.google.com/github/YasyaAbdillah03/latihan-1/blob/main/TugasS4DasarPemerograman.ipynb\" target=\"_parent\"><img src=\"https://colab.research.google.com/assets/colab-badge.svg\" alt=\"Open In Colab\"/></a>"
      ]
    },
    {
      "cell_type": "code",
      "execution_count": null,
      "metadata": {
        "colab": {
          "base_uri": "https://localhost:8080/"
        },
        "id": "NU7RNbGPYLib",
        "outputId": "f44e5801-38af-4344-ed8c-85ec0f2409ea"
      },
      "outputs": [
        {
          "output_type": "stream",
          "name": "stdout",
          "text": [
            "tugas sesi4\n",
            "dasar pemerograman\n",
            "muhammad yasya abdillah\n",
            "2022004000\n",
            "TI22E\n",
            "----------------\n",
            "X = 16 = 00010000\n",
            "Y = 32 = 00100000 \n",
            "\n",
            "----------------\n",
            "[and]\n",
            "X & Y = 0\n",
            "00010000 ^ 00100000 = 00000000 \n",
            "\n",
            "----------------\n",
            "[or]\n",
            "X | Y = 48\n",
            "00010000 | 00100000 = 00110000 \n",
            "\n",
            "----------------\n",
            "[not]\n",
            "~X ~Y = -17 -33\n",
            "~00010000 ~00100000 = -0010001 -0100001 \n",
            "\n"
          ]
        }
      ],
      "source": [
        "print(\"tugas sesi4\")\n",
        "print(\"dasar pemerograman\")\n",
        "print(\"muhammad yasya abdillah\")\n",
        "print('2022004000')\n",
        "print(\"TI22E\")\n",
        "print(\"----------------\")\n",
        "\n",
        "X = 16\n",
        "Y = 32\n",
        "print('X =', X, '=', format(X, '08b')) \n",
        "print('Y =', Y, '=', format(Y, '08b'), '\\n')\n",
        "print(\"----------------\")\n",
        "print('[and]') \n",
        "print('X & Y =', X & Y) \n",
        "print(format(X, '08b'), '^', format(Y, '08b'), '=', format(X & Y, '08b'), '\\n')\n",
        "print(\"----------------\")\n",
        "print('[or]') \n",
        "print('X | Y =', X | Y) \n",
        "print(format(X, '08b'), '|', format(Y, '08b'), '=', format(X | Y, '08b'), '\\n')\n",
        "print(\"----------------\")\n",
        "print('[not]') \n",
        "print('~X ~Y =', ~X, ~Y) \n",
        "print('~' + format(X, '08b'), '~' + format(Y, '08b'), '=', format(~X, '08b'), format(~Y, '08b'), '\\n')"
      ]
    }
  ]
}