{
  "nbformat": 4,
  "nbformat_minor": 0,
  "metadata": {
    "colab": {
      "provenance": [],
      "authorship_tag": "ABX9TyPEuRb0i99EOGHpV7VLBpN6",
      "include_colab_link": true
    },
    "kernelspec": {
      "name": "python3",
      "display_name": "Python 3"
    },
    "language_info": {
      "name": "python"
    }
  },
  "cells": [
    {
      "cell_type": "markdown",
      "metadata": {
        "id": "view-in-github",
        "colab_type": "text"
      },
      "source": [
        "<a href=\"https://colab.research.google.com/github/YasyaAbdillah03/latihan-1/blob/main/tugas_sesi_7_Muhammmad_Yasya_Abdillah.ipynb\" target=\"_parent\"><img src=\"https://colab.research.google.com/assets/colab-badge.svg\" alt=\"Open In Colab\"/></a>"
      ]
    },
    {
      "cell_type": "code",
      "execution_count": 8,
      "metadata": {
        "colab": {
          "base_uri": "https://localhost:8080/"
        },
        "id": "XdxINaJon-TR",
        "outputId": "48d9df24-e1b7-4b60-af3d-042d660a9bcc"
      },
      "outputs": [
        {
          "output_type": "stream",
          "name": "stdout",
          "text": [
            "--------- 🅺🅰🅻🅺🆄🅻🅰🆃🅾🆁 🆂🅴🅳🅴🆁🅷🅰🅽🅰 ---------\n",
            "============ Muhammad Yasya Abdillah =============\n",
            "[1] Menghitung Luas Segitiga\n",
            "[2] Menghitung Luas Persegi Panjang\n",
            "[3] Menentukan Nomor Ganjil/Genap\n",
            "[4] exit\n",
            "Pilih : 1\n",
            "\n",
            "Masukan Alas   : 2\n",
            "Masukan Tinggi : 3\n",
            "\n",
            "Luas Segitiga dari \n",
            "Alas   = 2\n",
            "Tinggi = 3 \n",
            "Dengan Rumus 1/2 x Alas x Tinggi\n",
            "Hasilnya = 3.0\n",
            "\n",
            "--------- 🅺🅰🅻🅺🆄🅻🅰🆃🅾🆁 🆂🅴🅳🅴🆁🅷🅰🅽🅰 ---------\n",
            "============ Muhammad Yasya Abdillah =============\n",
            "[1] Menghitung Luas Segitiga\n",
            "[2] Menghitung Luas Persegi Panjang\n",
            "[3] Menentukan Nomor Ganjil/Genap\n",
            "[4] exit\n",
            "Pilih : 2\n",
            "\n",
            "Masukan Panjang : 3\n",
            "Masukan Lebar   : 4\n",
            "\n",
            "Luas Persegi Panjang dari \n",
            "Panjang = 3 \n",
            "Lebar = 4 \n",
            "Dengan Rumus Panjang x Lebar \n",
            "Hasilnya = 12\n",
            "\n",
            "--------- 🅺🅰🅻🅺🆄🅻🅰🆃🅾🆁 🆂🅴🅳🅴🆁🅷🅰🅽🅰 ---------\n",
            "============ Muhammad Yasya Abdillah =============\n",
            "[1] Menghitung Luas Segitiga\n",
            "[2] Menghitung Luas Persegi Panjang\n",
            "[3] Menentukan Nomor Ganjil/Genap\n",
            "[4] exit\n",
            "Pilih : 4\n",
            "\n",
            "Apakah Kamu Ingin Keluar (y/n) : y\n",
            "enjoy!\n"
          ]
        }
      ],
      "source": [
        "while True:\n",
        "    print(\" 🅺🅰🅻🅺🆄🅻🅰🆃🅾🆁 🆂🅴🅳🅴🆁🅷🅰🅽🅰 \".center(40,\"-\"))\n",
        "    print(\" Muhammad Yasya Abdillah \".center(50,\"=\"))\n",
        "    print(\"\"\"[1] Menghitung Luas Segitiga\n",
        "[2] Menghitung Luas Persegi Panjang\n",
        "[3] Menentukan Nomor Ganjil/Genap\n",
        "[4] exit\"\"\")\n",
        "    opt = int(input(\"Pilih : \"))\n",
        "    if opt == 1:\n",
        "        alas = int(input(\"\\nMasukan Alas   : \"))\n",
        "        tinggi = int(input(\"Masukan Tinggi : \"))\n",
        "        print(f\"\\nLuas Segitiga dari \\nAlas   = {alas}\\nTinggi = {tinggi} \\nDengan Rumus 1/2 x Alas x Tinggi\\nHasilnya = {alas*tinggi*0.5}\\n\")\n",
        "    elif opt == 2:\n",
        "        panjang = int(input(\"\\nMasukan Panjang : \"))\n",
        "        lebar = int(input(\"Masukan Lebar   : \"))\n",
        "        print(f\"\\nLuas Persegi Panjang dari \\nPanjang = {panjang} \\nLebar = {lebar} \\nDengan Rumus Panjang x Lebar \\nHasilnya = {panjang*lebar}\\n\")\n",
        "    elif opt == 3:\n",
        "        num = int(input(\"\\nMasukan angka : \"))\n",
        "        if num % 2 == 0:\n",
        "            print(f\"{num} adalah genap\\n\")\n",
        "        else:\n",
        "            print(f\"{num} adalah ganjil\\n\")\n",
        "    elif opt == 4:\n",
        "        quit = input(\"\\nApakah Kamu Ingin Keluar (y/n) : \")\n",
        "        if quit == 'y':\n",
        "            print(\"enjoy!\")\n",
        "            break\n",
        "        else: continue\n",
        "    else:\n",
        "        print(\"ERROR - Angka yang anda masukan tidak ada didalam daftar\")"
      ]
    }
  ]
}