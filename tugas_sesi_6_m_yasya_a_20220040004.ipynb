{
  "nbformat": 4,
  "nbformat_minor": 0,
  "metadata": {
    "colab": {
      "provenance": [],
      "authorship_tag": "ABX9TyMQNNFwSK1jiiIwHHGoPbmj",
      "include_colab_link": true
    },
    "kernelspec": {
      "name": "python3",
      "display_name": "Python 3"
    },
    "language_info": {
      "name": "python"
    }
  },
  "cells": [
    {
      "cell_type": "markdown",
      "metadata": {
        "id": "view-in-github",
        "colab_type": "text"
      },
      "source": [
        "<a href=\"https://colab.research.google.com/github/YasyaAbdillah03/latihan-1/blob/main/tugas_sesi_6_m_yasya_a_20220040004.ipynb\" target=\"_parent\"><img src=\"https://colab.research.google.com/assets/colab-badge.svg\" alt=\"Open In Colab\"/></a>"
      ]
    },
    {
      "cell_type": "code",
      "execution_count": 5,
      "metadata": {
        "colab": {
          "base_uri": "https://localhost:8080/"
        },
        "id": "f3-6KYYjhI9j",
        "outputId": "d1095e68-0ae7-4e61-aede-a29aaa9fc07b"
      },
      "outputs": [
        {
          "output_type": "stream",
          "name": "stdout",
          "text": [
            "======penentuan nilai======\n",
            "input nilai akhir:100\n",
            "grade anda =  A\n",
            "predikat anda = pencapaian yang luar biasa pertahankan!\n"
          ]
        }
      ],
      "source": [
        "print(\"======penentuan nilai======\")\n",
        "nilai = int(input(\"input nilai akhir:\"))\n",
        "if nilai >=90 and nilai <=100:\n",
        "  grade = \"A\"\n",
        "  predikat = \"pencapaian yang luar biasa pertahankan!\"\n",
        "elif nilai >=80 and nilai <=89:\n",
        "  grade = \"B\"\n",
        "  predikat = \"sangat memuaskan\"\n",
        "elif nilai >=70 and nilai <=79:\n",
        "  grade = \"C\"\n",
        "  predikat = \"memuaskan\"\n",
        "elif nilai >=60 and nilai <=69:\n",
        "  grade = \"D\"\n",
        "  predikat = \"tidak memuaskan\"\n",
        "elif nilai >=0 and nilai <=59:\n",
        "  grade = \"E\"\n",
        "  predikat = \"tidak lulus\"\n",
        "else:\n",
        "  print(\"tolong input nilai 0 sampai 100\")\n",
        "print(\"grade anda = \",grade)\n",
        "print(\"predikat anda =\",predikat)"
      ]
    }
  ]
}